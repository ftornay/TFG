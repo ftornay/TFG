{
 "cells": [
  {
   "cell_type": "code",
   "execution_count": 1,
   "metadata": {},
   "outputs": [],
   "source": [
    "import torch\n",
    "import torch.nn as nn\n",
    "import torch.optim as optim\n",
    "import matplotlib.pyplot as plt\n",
    "import pickle"
   ]
  },
  {
   "cell_type": "code",
   "execution_count": 2,
   "metadata": {},
   "outputs": [],
   "source": [
    "from utils_Tadpole import TadpoleSet, TadpoleModule, Normalizer, train, val\n",
    "with open('loaders', 'rb') as f:\n",
    "    train_loader, val_loader, test_loader = pickle.load(f)"
   ]
  },
  {
   "cell_type": "code",
   "execution_count": 5,
   "metadata": {},
   "outputs": [],
   "source": [
    "normalize = Normalizer(train_loader)\n",
    "model = TadpoleModule(transforms=[])\n",
    "criterion = nn.CrossEntropyLoss()\n",
    "optimizer = optim.Adam(model.parameters(), lr=0.0001) # momentum=0.05)"
   ]
  },
  {
   "cell_type": "code",
   "execution_count": null,
   "metadata": {},
   "outputs": [],
   "source": [
    "train_losses = []\n",
    "val_losses = []\n",
    "corrects = []\n",
    "for epoch in range(1, 300):\n",
    "    train_loss = train(epoch, model, train_loader, criterion, optimizer)\n",
    "    val_loss, correct = val(model, val_loader, criterion)\n",
    "    train_losses.append(train_loss)\n",
    "    val_losses.append(val_loss)\n",
    "    corrects.append(correct)"
   ]
  },
  {
   "cell_type": "code",
   "execution_count": 8,
   "metadata": {},
   "outputs": [
    {
     "data": {
      "text/plain": [
       "([3337.939697265625,\n",
       "  40.7375602722168,\n",
       "  44.41550064086914,\n",
       "  46.15717697143555,\n",
       "  44.715152740478516,\n",
       "  49.6042366027832,\n",
       "  51.673828125,\n",
       "  50.791015625,\n",
       "  49.52939987182617,\n",
       "  54.452919006347656],\n",
       " [68.00017528748245,\n",
       "  0.6719034773580144,\n",
       "  0.5607111855839075,\n",
       "  0.5764586630831944,\n",
       "  0.5553017777003599,\n",
       "  0.5832003732745568,\n",
       "  0.618924001629433,\n",
       "  0.6188386852821607,\n",
       "  0.5984296091486899,\n",
       "  0.6903308611237601],\n",
       " [326, 317, 361, 368, 356, 367, 358, 348, 355, 356])"
      ]
     },
     "execution_count": 8,
     "metadata": {},
     "output_type": "execute_result"
    }
   ],
   "source": [
    "train_losses[:10], val_losses[:10], corrects[:10]"
   ]
  },
  {
   "cell_type": "code",
   "execution_count": 9,
   "metadata": {},
   "outputs": [
    {
     "data": {
      "text/plain": [
       "[<matplotlib.lines.Line2D at 0x7f0124ae0710>]"
      ]
     },
     "execution_count": 9,
     "metadata": {},
     "output_type": "execute_result"
    },
    {
     "data": {
      "image/png": "[encoded data removed]",
      "text/plain": [
       "<Figure size 432x288 with 1 Axes>"
      ]
     },
     "metadata": {
      "needs_background": "light"
     },
     "output_type": "display_data"
    }
   ],
   "source": [
    "plt.plot(range(1, 300), val_losses)"
   ]
  },
  {
   "cell_type": "code",
   "execution_count": 12,
   "metadata": {},
   "outputs": [],
   "source": [
    "torch.save(model, 'model')"
   ]
  },
  {
   "cell_type": "code",
   "execution_count": null,
   "metadata": {},
   "outputs": [],
   "source": []
  }
 ],
 "metadata": {
  "kernelspec": {
   "display_name": "Python 3",
   "language": "python",
   "name": "python3"
  },
  "language_info": {
   "codemirror_mode": {
    "name": "ipython",
    "version": 3
   },
   "file_extension": ".py",
   "mimetype": "text/x-python",
   "name": "python",
   "nbconvert_exporter": "python",
   "pygments_lexer": "ipython3",
   "version": "3.7.3"
  }
 },
 "nbformat": 4,
 "nbformat_minor": 2
}
